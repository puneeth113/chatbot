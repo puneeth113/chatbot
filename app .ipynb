{
 "cells": [
  {
   "cell_type": "code",
   "execution_count": 1,
   "id": "7f9c4809-371a-4792-a67e-64bda7a32303",
   "metadata": {},
   "outputs": [
    {
     "name": "stdout",
     "output_type": "stream",
     "text": [
      "Requirement already satisfied: nltk in c:\\users\\punee\\anaconda3\\lib\\site-packages (3.8.1)\n",
      "Requirement already satisfied: click in c:\\users\\punee\\anaconda3\\lib\\site-packages (from nltk) (8.1.7)\n",
      "Requirement already satisfied: joblib in c:\\users\\punee\\anaconda3\\lib\\site-packages (from nltk) (1.2.0)\n",
      "Requirement already satisfied: regex>=2021.8.3 in c:\\users\\punee\\anaconda3\\lib\\site-packages (from nltk) (2023.10.3)\n",
      "Requirement already satisfied: tqdm in c:\\users\\punee\\anaconda3\\lib\\site-packages (from nltk) (4.65.0)\n",
      "Requirement already satisfied: colorama in c:\\users\\punee\\anaconda3\\lib\\site-packages (from click->nltk) (0.4.6)\n"
     ]
    }
   ],
   "source": [
    "!pip install nltk"
   ]
  },
  {
   "cell_type": "code",
   "execution_count": null,
   "id": "fa5e50c9-b75a-4146-a13f-bfd9de26cab5",
   "metadata": {},
   "outputs": [],
   "source": []
  },
  {
   "cell_type": "code",
   "execution_count": 7,
   "id": "b2fb5d87-4fef-486f-9dfc-bff5537492db",
   "metadata": {},
   "outputs": [
    {
     "name": "stderr",
     "output_type": "stream",
     "text": [
      "[nltk_data] Downloading package punkt to\n",
      "[nltk_data]     C:\\Users\\punee\\AppData\\Roaming\\nltk_data...\n",
      "[nltk_data]   Package punkt is already up-to-date!\n",
      "[nltk_data] Downloading package wordnet to\n",
      "[nltk_data]     C:\\Users\\punee\\AppData\\Roaming\\nltk_data...\n",
      "[nltk_data]   Package wordnet is already up-to-date!\n"
     ]
    },
    {
     "data": {
      "text/plain": [
       "True"
      ]
     },
     "execution_count": 7,
     "metadata": {},
     "output_type": "execute_result"
    }
   ],
   "source": [
    "# importing modules \n",
    "\n",
    "import nltk\n",
    "import random\n",
    "\n",
    "nltk.download(\"punkt\")\n",
    "nltk.download(\"wordnet\")"
   ]
  },
  {
   "cell_type": "code",
   "execution_count": null,
   "id": "acfb769a-b379-4bc1-8eb4-84d9148c29e2",
   "metadata": {},
   "outputs": [],
   "source": []
  },
  {
   "cell_type": "code",
   "execution_count": null,
   "id": "73e20359-27d8-414e-847c-a969adf3746d",
   "metadata": {},
   "outputs": [],
   "source": [
    "# creating simple response chatbot \n",
    "from nltk.corpus import wordnet\n",
    "# using error handling and longing \n",
    "\n",
    "import logging \n",
    "logging.basicConfig(filename=\"chatbot.log\", level=logging.INFO, format=\"%(asctime)s - %(message)s\")\n",
    "\n",
    "\n",
    "def get_synonyms(word):\n",
    "    synonyms = []\n",
    "    for syn in wordnet.synsets(word):\n",
    "        for lemma in syn.lemmas():\n",
    "            synonyms.append(lemma.name())\n",
    "    return set(synonyms)\n",
    "\n",
    "\n",
    "\n",
    "\n",
    "def getresponse(user_input):\n",
    "      responses = {\n",
    "        \"software engineering\": \"Software engineering is the application of engineering principles to software development in a systematic method.\",\n",
    "        \"distributed computing\": \"Distributed computing refers to systems in which components located on networked computers communicate and coordinate their actions by passing messages.\",\n",
    "        \"software design\": \"Software design is the process of envisioning and defining software solutions to one or more sets of problems.\",\n",
    "        \"software architecture\": \"Software architecture refers to the high-level structure of a software system and the discipline of creating such structures.\",\n",
    "        \"microservices\": \"Microservices is an architectural style that structures an application as a collection of small, autonomous services modeled around a business domain.\",\n",
    "        \"agile methodology\": \"Agile methodology is an approach to software development under which requirements and solutions evolve through the collaborative effort of self-organizing and cross-functional teams.\",\n",
    "        \"devops\": \"DevOps is a set of practices that combine software development (Dev) and IT operations (Ops) to shorten the development lifecycle and deliver high-quality software continuously.\"\n",
    "    }\n",
    "\n",
    "\n",
    "    #tokenizing the user input \n",
    "    tokens = nltk.word_tokenize(user_input)\n",
    "\n",
    "    for word in tokens:\n",
    "        for key  in responses:\n",
    "            if word == key or word in get_synonyms(word):\n",
    "                return responses[key]\n",
    "            \n",
    "            return responses[word]\n",
    "    return \" I am sorry i did not understand \"\n",
    "\n",
    "\n",
    "# creating a more interactive loop for chatbot \n",
    "\n",
    "def chat():\n",
    "        print(\"Hello! I'm your Advanced Software Engineering chatbot. Ask me anything related to the subject, or type 'exit' to stop.\")\n",
    "\n",
    "        while True :\n",
    "\n",
    "            try:\n",
    "                \n",
    "                    user_input = input(\"enter your questions related to advance software engineering  :  \").lower()\n",
    "        \n",
    "                    if user_input == \"exit\":\n",
    "                        print(\"Chat Bot :  Bye\" )\n",
    "                        break \n",
    "        \n",
    "                    # response = getresponse(user_input)\n",
    "                    # print(\"Chat Bot : \" , response)\n",
    "        \n",
    "                    logging.info(f\"user : {user_input} \")\n",
    "        \n",
    "                    # getting a response from user \n",
    "        \n",
    "                    response = getresponse(user_input)\n",
    "        \n",
    "                    logging.info(f\"Bot : {response} \")\n",
    "                \n",
    "            except Exception as e :\n",
    "                logging.error(f\"error occured {str(e)}\")\n",
    "                logging.info(\"some thing went wrong \")\n",
    "                    \n",
    "\n",
    "\n",
    "chat()\n",
    "\n",
    "\n",
    "            "
   ]
  },
  {
   "cell_type": "code",
   "execution_count": null,
   "id": "bcff494b-02a2-4ccc-9d8c-8a8915ef610f",
   "metadata": {},
   "outputs": [],
   "source": []
  },
  {
   "cell_type": "code",
   "execution_count": 1,
   "id": "fca5a9a1-76dd-4aff-aa6d-ba4148ac7c54",
   "metadata": {},
   "outputs": [
    {
     "name": "stdout",
     "output_type": "stream",
     "text": [
      "Requirement already satisfied: flask in c:\\users\\punee\\anaconda3\\lib\\site-packages (2.2.5)\n",
      "Requirement already satisfied: Werkzeug>=2.2.2 in c:\\users\\punee\\anaconda3\\lib\\site-packages (from flask) (2.2.3)\n",
      "Requirement already satisfied: Jinja2>=3.0 in c:\\users\\punee\\anaconda3\\lib\\site-packages (from flask) (3.1.3)\n",
      "Requirement already satisfied: itsdangerous>=2.0 in c:\\users\\punee\\anaconda3\\lib\\site-packages (from flask) (2.0.1)\n",
      "Requirement already satisfied: click>=8.0 in c:\\users\\punee\\anaconda3\\lib\\site-packages (from flask) (8.1.7)\n",
      "Requirement already satisfied: colorama in c:\\users\\punee\\anaconda3\\lib\\site-packages (from click>=8.0->flask) (0.4.6)\n",
      "Requirement already satisfied: MarkupSafe>=2.0 in c:\\users\\punee\\anaconda3\\lib\\site-packages (from Jinja2>=3.0->flask) (2.1.3)\n"
     ]
    }
   ],
   "source": [
    "# deployemnt of chat bot \n",
    "\n",
    "!pip install flask"
   ]
  },
  {
   "cell_type": "code",
   "execution_count": null,
   "id": "388b2d0e-cd36-4d0c-8f3d-dfbab7c20ca3",
   "metadata": {},
   "outputs": [],
   "source": []
  },
  {
   "cell_type": "code",
   "execution_count": null,
   "id": "9f9624be-cf61-4088-949c-4cf3fddca4f8",
   "metadata": {},
   "outputs": [],
   "source": [
    "from flask import Flask, request, jsonify\n",
    "\n",
    "app = Flask(__name__)\n",
    "\n",
    "@app.route('/')\n",
    "def home():\n",
    "    return \"Welcome to the Advanced Software Engineering Chatbot!\"\n",
    "\n",
    "@app.route('/ask', methods=['POST'])\n",
    "def ask_bot():\n",
    "    data = request.get_json()\n",
    "    user_input = data.get('question')\n",
    "    \n",
    "    # Get the response from the chatbot\n",
    "    response = get_response(user_input)\n",
    "    \n",
    "    # Return the response as JSON\n",
    "    return jsonify({'response': response})\n",
    "\n",
    "if __name__ == '__main__':\n",
    "    app.run(debug=True)\n"
   ]
  },
  {
   "cell_type": "code",
   "execution_count": null,
   "id": "a8d22f5d-7544-4fe0-bec0-38ed4672d34f",
   "metadata": {},
   "outputs": [],
   "source": []
  },
  {
   "cell_type": "code",
   "execution_count": null,
   "id": "a3bdfb15-63af-48bc-b277-12ac1f96bd80",
   "metadata": {},
   "outputs": [],
   "source": []
  },
  {
   "cell_type": "code",
   "execution_count": 5,
   "id": "de0b6cc6-6243-4046-b2fa-1e8926503a0a",
   "metadata": {},
   "outputs": [
    {
     "name": "stdout",
     "output_type": "stream",
     "text": [
      "Collecting gunicorn\n",
      "  Downloading gunicorn-23.0.0-py3-none-any.whl.metadata (4.4 kB)\n",
      "Requirement already satisfied: packaging in c:\\users\\punee\\anaconda3\\lib\\site-packages (from gunicorn) (23.1)\n",
      "Downloading gunicorn-23.0.0-py3-none-any.whl (85 kB)\n",
      "   ---------------------------------------- 0.0/85.0 kB ? eta -:--:--\n",
      "   ---------------------------------------- 0.0/85.0 kB ? eta -:--:--\n",
      "   ---- ----------------------------------- 10.2/85.0 kB ? eta -:--:--\n",
      "   ---- ----------------------------------- 10.2/85.0 kB ? eta -:--:--\n",
      "   ------------------- -------------------- 41.0/85.0 kB 281.8 kB/s eta 0:00:01\n",
      "   ------------------- -------------------- 41.0/85.0 kB 281.8 kB/s eta 0:00:01\n",
      "   ------------------- -------------------- 41.0/85.0 kB 281.8 kB/s eta 0:00:01\n",
      "   ---------------------------------------- 85.0/85.0 kB 319.6 kB/s eta 0:00:00\n",
      "Installing collected packages: gunicorn\n",
      "Successfully installed gunicorn-23.0.0\n",
      "Note: you may need to restart the kernel to use updated packages.\n"
     ]
    }
   ],
   "source": [
    "pip install gunicorn\n"
   ]
  },
  {
   "cell_type": "code",
   "execution_count": 15,
   "id": "4d4a282b-b077-4578-b63a-33f123fd9622",
   "metadata": {},
   "outputs": [
    {
     "ename": "SyntaxError",
     "evalue": "invalid syntax (518969798.py, line 1)",
     "output_type": "error",
     "traceback": [
      "\u001b[1;36m  Cell \u001b[1;32mIn[15], line 1\u001b[1;36m\u001b[0m\n\u001b[1;33m    pip freeze > requirements.txt\u001b[0m\n\u001b[1;37m        ^\u001b[0m\n\u001b[1;31mSyntaxError\u001b[0m\u001b[1;31m:\u001b[0m invalid syntax\n"
     ]
    }
   ],
   "source": [
    "pip freeze > requirements.txt\n",
    "\n"
   ]
  },
  {
   "cell_type": "code",
   "execution_count": 3,
   "id": "4e6d1edf-a729-4ff4-92c7-b31cc73c450c",
   "metadata": {},
   "outputs": [
    {
     "name": "stdout",
     "output_type": "stream",
     "text": [
      " Volume in drive C is Windows\n",
      " Volume Serial Number is 7804-EB2C\n",
      "\n",
      " Directory of C:\\Users\\punee\n",
      "\n",
      "08-10-2024  16:48    <DIR>          .\n",
      "10-04-2023  15:14    <DIR>          ..\n",
      "18-04-2024  19:30    <DIR>          .anaconda\n",
      "19-08-2024  20:54    <DIR>          .cache\n",
      "08-10-2024  16:48    <DIR>          .conda\n",
      "15-09-2024  07:50                42 .condarc\n",
      "18-04-2024  19:30    <DIR>          .continuum\n",
      "27-06-2023  13:17                16 .emulator_console_auth_token\n",
      "02-07-2023  08:53    <DIR>          .gradle\n",
      "24-04-2023  11:13    <DIR>          .idlerc\n",
      "08-10-2024  16:48    <DIR>          .ipynb_checkpoints\n",
      "18-04-2024  19:31    <DIR>          .ipython\n",
      "18-04-2024  19:31    <DIR>          .jupyter\n",
      "27-06-2023  13:17    <DIR>          .m2\n",
      "30-07-2024  19:00    <DIR>          .matplotlib\n",
      "14-05-2023  15:22               133 .node_repl_history\n",
      "02-10-2024  15:11    <DIR>          .spyder-py3\n",
      "28-09-2023  17:51    <DIR>          .thumbnails\n",
      "18-04-2024  19:43    <DIR>          .virtual_documents\n",
      "25-08-2024  10:21    <DIR>          .virtualenvs\n",
      "11-10-2023  10:19    <DIR>          .vscode\n",
      "25-06-2024  21:15    <DIR>          anaconda3\n",
      "02-07-2023  09:29    <DIR>          AndroidStudioProjects\n",
      "23-04-2024  19:55         7,199,262 archive.zip\n",
      "08-10-2024  16:46            19,850 ASE chatbot .ipynb\n",
      "04-10-2024  05:12            19,804 automobile_data.csv.csv\n",
      "02-10-2024  11:32            36,640 basic.docx\n",
      "28-06-2024  22:01    <DIR>          basics python\n",
      "23-04-2024  20:01                 0 Churn_Modelling.csv\n",
      "19-04-2024  20:19           286,814 complete.csv\n",
      "10-04-2023  15:04    <DIR>          Contacts\n",
      "23-04-2024  20:10                 0 covid.csv\n",
      "19-04-2024  20:14    <DIR>          covid19\n",
      "28-04-2024  13:03             3,594 CSK Sample.csv\n",
      "05-10-2024  16:59    <DIR>          data analysis\n",
      "30-04-2024  17:57    <DIR>          Data screping MF\n",
      "14-09-2024  16:10    <DIR>          DATA SETS PRACTICE\n",
      "10-05-2024  15:02           794,393 data visualization.ipynb\n",
      "28-04-2024  12:03           105,418 data.csv\n",
      "21-08-2024  20:07                43 data.json\n",
      "21-04-2024  12:57            11,426 data_set.xlsx\n",
      "30-04-2024  18:00            43,733 datascraping.ipynb\n",
      "24-05-2024  06:17            30,765 DAY-3.ipynb\n",
      "22-04-2024  20:04             9,776 day4.ipynb\n",
      "23-04-2024  21:19            77,079 day5.ipynb\n",
      "25-04-2024  16:02             5,339 day6.ipynb\n",
      "29-09-2024  18:51    <DIR>          Desktop\n",
      "23-05-2024  20:07    <DIR>          dewali sales\n",
      "21-04-2024  19:46            61,505 district_level_latest.csv\n",
      "02-10-2024  11:38             6,910 document.ipynb\n",
      "07-10-2024  09:24    <DIR>          Documents\n",
      "08-10-2024  06:02    <DIR>          Downloads\n",
      "02-10-2024  17:51            20,878 emotion handling.ipynb\n",
      "02-10-2024  16:08             1,244 emotionhandling.py\n",
      "24-05-2024  22:22                 0 Employee.csv\n",
      "01-07-2024  20:42           264,269 employee.ipynb\n",
      "10-04-2023  15:04    <DIR>          Favorites\n",
      "23-04-2023  08:43    <DIR>          flaskmarket\n",
      "16-08-2024  19:07             2,817 hotel.py\n",
      "17-08-2024  13:43             7,243 hotel_manegement.py\n",
      "28-04-2024  14:13            14,118 image.svg\n",
      "05-07-2024  16:25    <DIR>          Jedi\n",
      "30-06-2024  20:31           498,501 life expectance .ipynb\n",
      "10-04-2023  15:04    <DIR>          Links\n",
      "21-04-2024  09:56                80 load.txt\n",
      "10-04-2023  15:04    <DIR>          Music\n",
      "30-04-2024  17:21    <DIR>          myCodes\n",
      "30-04-2024  18:51    <DIR>          node_modules\n",
      "15-09-2024  16:14            21,016 numpy.ipynb\n",
      "10-04-2023  15:07    <DIR>          OneDrive\n",
      "27-04-2024  14:26                 0 onlinefoods.xlx\n",
      "19-04-2024  20:04            13,763 owid-covid-codebook.csv\n",
      "30-04-2024  18:51                95 package.json\n",
      "29-09-2024  18:52             2,440 package-lock.json\n",
      "22-04-2024  18:56             9,326 panda.jpg\n",
      "04-07-2024  22:37            36,492 patient.ipynb\n",
      "25-04-2024  15:20            10,511 PBS.xlsx\n",
      "10-04-2023  17:48    <DIR>          petopia\n",
      "30-09-2024  07:52    <DIR>          Pictures\n",
      "28-04-2024  15:08            24,387 pkldataset.ipynb\n",
      "08-10-2024  16:47                 0 Procfile\n",
      "04-10-2024  05:20            12,902 project.ipynb\n",
      "23-08-2024  17:03    <DIR>          PyCharm 2024.2.0.1\n",
      "25-08-2024  10:21    <DIR>          PycharmProjects\n",
      "10-04-2023  15:04    <DIR>          Saved Games\n",
      "24-10-2023  17:16    <DIR>          Searches\n",
      "20-08-2024  16:59    <DIR>          sentiment analysis\n",
      "19-04-2024  20:38           213,323 state_level_daily.csv\n",
      "22-04-2023  14:59    <DIR>          storefront\n",
      "26-05-2024  17:59    <DIR>          student alcohol\n",
      "13-09-2024  05:44    <DIR>          student suicide\n",
      "26-05-2024  17:58    <DIR>          student suicide data sets\n",
      "10-05-2024  08:56             9,592 student_data.ipynb\n",
      "10-05-2024  16:05             1,615 Student_Marks.csv\n",
      "27-04-2024  14:28            27,433 student-dataset.csv\n",
      "10-05-2024  08:50            72,036 StudentsPerformance.csv\n",
      "28-04-2024  14:43            10,044 teamStats_needed.csv\n",
      "30-04-2024  17:19    <DIR>          Untitled Folder\n",
      "11-05-2024  11:27    <DIR>          Untitled Folder 1\n",
      "20-04-2024  20:07            14,392 Untitled.ipynb\n",
      "11-05-2024  11:27                 0 untitled.txt\n",
      "23-08-2024  17:22                29 untitled0.py\n",
      "18-04-2024  20:09             4,165 Untitled1.ipynb\n",
      "02-10-2024  11:28               617 Untitled2.ipynb\n",
      "02-10-2024  15:15               617 Untitled3.ipynb\n",
      "08-05-2023  06:37    <DIR>          Videos\n",
      "              54 File(s)     10,006,487 bytes\n",
      "              52 Dir(s)  132,130,471,936 bytes free\n"
     ]
    }
   ],
   "source": [
    "ls"
   ]
  },
  {
   "cell_type": "code",
   "execution_count": 17,
   "id": "e00f441c-6f89-42a2-a63d-058e8714fca3",
   "metadata": {},
   "outputs": [
    {
     "ename": "SyntaxError",
     "evalue": "invalid syntax (3277417328.py, line 1)",
     "output_type": "error",
     "traceback": [
      "\u001b[1;36m  Cell \u001b[1;32mIn[17], line 1\u001b[1;36m\u001b[0m\n\u001b[1;33m    git init\u001b[0m\n\u001b[1;37m        ^\u001b[0m\n\u001b[1;31mSyntaxError\u001b[0m\u001b[1;31m:\u001b[0m invalid syntax\n"
     ]
    }
   ],
   "source": [
    "git init\n"
   ]
  },
  {
   "cell_type": "code",
   "execution_count": null,
   "id": "27f22769-1b8c-41ea-a82b-c29690b95971",
   "metadata": {},
   "outputs": [],
   "source": []
  },
  {
   "cell_type": "code",
   "execution_count": null,
   "id": "48d93a6b-3f65-4ea3-975a-5b3ff016147a",
   "metadata": {},
   "outputs": [],
   "source": []
  },
  {
   "cell_type": "code",
   "execution_count": null,
   "id": "4b6f1be1-6db5-44ae-87d9-2e891efcf3f4",
   "metadata": {},
   "outputs": [],
   "source": []
  },
  {
   "cell_type": "code",
   "execution_count": 19,
   "id": "e79ffb59-79df-4304-a547-354b41b38353",
   "metadata": {},
   "outputs": [
    {
     "data": {
      "text/plain": [
       "'C:\\\\Users\\\\punee'"
      ]
     },
     "execution_count": 19,
     "metadata": {},
     "output_type": "execute_result"
    }
   ],
   "source": [
    "pwd\n"
   ]
  },
  {
   "cell_type": "code",
   "execution_count": null,
   "id": "8234390a-e09a-4e0d-b150-2f6a77eb94fb",
   "metadata": {},
   "outputs": [],
   "source": []
  },
  {
   "cell_type": "code",
   "execution_count": null,
   "id": "3a51b884-f9ec-48ac-80e9-c33de6258824",
   "metadata": {},
   "outputs": [],
   "source": []
  },
  {
   "cell_type": "code",
   "execution_count": null,
   "id": "54a58b01-ea93-4c2f-8a3c-b3742eeb69dd",
   "metadata": {},
   "outputs": [],
   "source": []
  },
  {
   "cell_type": "code",
   "execution_count": null,
   "id": "9edf1e3b-48af-4efa-a8f6-b72e79b0be57",
   "metadata": {},
   "outputs": [],
   "source": []
  },
  {
   "cell_type": "code",
   "execution_count": null,
   "id": "cd2ae8a1-03d9-47fb-b350-f38b6f6544f0",
   "metadata": {},
   "outputs": [],
   "source": []
  },
  {
   "cell_type": "code",
   "execution_count": null,
   "id": "021157ea-d984-49ee-afcd-7626e943824e",
   "metadata": {},
   "outputs": [],
   "source": []
  },
  {
   "cell_type": "code",
   "execution_count": null,
   "id": "dd653aef-3789-48a0-abfe-577dbf4aae61",
   "metadata": {},
   "outputs": [],
   "source": []
  },
  {
   "cell_type": "code",
   "execution_count": null,
   "id": "6947eb48-9e6d-4395-94df-ca6c54992067",
   "metadata": {},
   "outputs": [],
   "source": []
  },
  {
   "cell_type": "code",
   "execution_count": null,
   "id": "97628835-f2c0-4840-b7c5-963c56d1f733",
   "metadata": {},
   "outputs": [],
   "source": []
  },
  {
   "cell_type": "code",
   "execution_count": null,
   "id": "b3d2c280-d621-4353-8a1d-4d0aa83824eb",
   "metadata": {},
   "outputs": [],
   "source": []
  },
  {
   "cell_type": "code",
   "execution_count": null,
   "id": "7c463bff-a072-4d1d-b43a-14f362db4e89",
   "metadata": {},
   "outputs": [],
   "source": []
  },
  {
   "cell_type": "code",
   "execution_count": null,
   "id": "2cb67600-23fb-4897-881b-4e92e40b9fd9",
   "metadata": {},
   "outputs": [],
   "source": []
  },
  {
   "cell_type": "code",
   "execution_count": null,
   "id": "b514667c-55fa-4deb-a529-2ea3129bbee0",
   "metadata": {},
   "outputs": [],
   "source": []
  },
  {
   "cell_type": "code",
   "execution_count": null,
   "id": "245ca875-775a-41b3-9f25-12dbb03c993b",
   "metadata": {},
   "outputs": [],
   "source": []
  },
  {
   "cell_type": "code",
   "execution_count": null,
   "id": "1d6554cc-8eb1-4122-b525-614b3214d21d",
   "metadata": {},
   "outputs": [],
   "source": []
  },
  {
   "cell_type": "code",
   "execution_count": null,
   "id": "4de079f5-e21b-4c38-9770-2508ef87e631",
   "metadata": {},
   "outputs": [],
   "source": []
  },
  {
   "cell_type": "code",
   "execution_count": null,
   "id": "40873627-89c2-4687-a4e8-42d163bc8f18",
   "metadata": {},
   "outputs": [],
   "source": []
  }
 ],
 "metadata": {
  "kernelspec": {
   "display_name": "Python 3 (ipykernel)",
   "language": "python",
   "name": "python3"
  },
  "language_info": {
   "codemirror_mode": {
    "name": "ipython",
    "version": 3
   },
   "file_extension": ".py",
   "mimetype": "text/x-python",
   "name": "python",
   "nbconvert_exporter": "python",
   "pygments_lexer": "ipython3",
   "version": "3.11.7"
  }
 },
 "nbformat": 4,
 "nbformat_minor": 5
}
